{
 "cells": [
  {
   "cell_type": "code",
   "execution_count": 31,
   "id": "cf1a2173",
   "metadata": {},
   "outputs": [],
   "source": [
    "import numpy as np\n",
    "import matplotlib.pyplot as plt"
   ]
  },
  {
   "cell_type": "code",
   "execution_count": 32,
   "id": "e531da96",
   "metadata": {},
   "outputs": [],
   "source": [
    "def exp_fn(x):\n",
    "    return np.exp(x-2) - x"
   ]
  },
  {
   "cell_type": "code",
   "execution_count": 33,
   "id": "af8e6346",
   "metadata": {},
   "outputs": [],
   "source": [
    "def f(x):\n",
    "    return np.power(x,2)\n",
    "    #return np.power(x-2,2)"
   ]
  },
  {
   "cell_type": "code",
   "execution_count": 34,
   "id": "cd9d330f",
   "metadata": {},
   "outputs": [
    {
     "data": {
      "image/png": "[encoded data removed]",
      "text/plain": [
       "<Figure size 432x288 with 1 Axes>"
      ]
     },
     "metadata": {
      "needs_background": "light"
     },
     "output_type": "display_data"
    }
   ],
   "source": [
    "x = np.linspace(-5, 10, 100)\n",
    "y = f(x)\n",
    "\n",
    "fig = plt.figure()\n",
    "plt.plot(x,y)\n",
    "plt.show()"
   ]
  },
  {
   "cell_type": "code",
   "execution_count": 35,
   "id": "4af49136",
   "metadata": {},
   "outputs": [
    {
     "data": {
      "image/png": "[encoded data removed]",
      "text/plain": [
       "<Figure size 432x288 with 1 Axes>"
      ]
     },
     "metadata": {
      "needs_background": "light"
     },
     "output_type": "display_data"
    }
   ],
   "source": [
    "x = np.linspace(-2, 6, 100)\n",
    "y = exp_fn(x)\n",
    "\n",
    "fig = plt.figure()\n",
    "plt.plot(x,y)\n",
    "plt.show()"
   ]
  },
  {
   "cell_type": "code",
   "execution_count": 60,
   "id": "558ec71a",
   "metadata": {},
   "outputs": [],
   "source": [
    "def fibonacci_search(f, a, b, n, eps=0.01):\n",
    "    \n",
    "    phi = (1 + np.sqrt(5))/2\n",
    "    print(\"phi\", phi)\n",
    "    \n",
    "    s = (1-np.sqrt(5))/(1+np.sqrt(5))\n",
    "    rho = 1 / (phi*(1-np.power(s,(n+1)))/(1-np.power(s,n)))\n",
    "    print(\"rho\", rho)\n",
    "    xu = rho*b + (1-rho)*a\n",
    "    yu = f(xu)\n",
    "    for i in range(1, n):\n",
    "        if i == n-1:\n",
    "            xl = eps*a + (1-eps)*xu\n",
    "        else:\n",
    "            xl = rho*a + (1-rho)*b\n",
    "            \n",
    "        yl = f(xl)\n",
    "        if yl < yu:\n",
    "            b, xu, yu = xu, xl, yl\n",
    "        else:\n",
    "            a, b = b, xl\n",
    "\n",
    "        ρ = 1 / (phi*(1-np.power(s,n-i+1))/(1-np.power(s,n-i)))\n",
    "        \n",
    "        print(\"[a,b]: \" + \"[\" + str(a) + \",\" + str(b) + \"]\")\n",
    "\n",
    "    if a < b:\n",
    "        return (a, b)\n",
    "    else:\n",
    "        return (b, a)\n",
    "        "
   ]
  },
  {
   "cell_type": "code",
   "execution_count": 61,
   "id": "11edefb5",
   "metadata": {},
   "outputs": [
    {
     "name": "stdout",
     "output_type": "stream",
     "text": [
      "phi 1.618033988749895\n",
      "rho 0.6666666666666666\n",
      "[a,b]: [0,0.6666666666666666]\n",
      "[a,b]: [0,0.33333333333333337]\n"
     ]
    },
    {
     "data": {
      "text/plain": [
       "(0, 0.33333333333333337)"
      ]
     },
     "execution_count": 61,
     "metadata": {},
     "output_type": "execute_result"
    }
   ],
   "source": [
    "fibonacci_search(f, 0, 1, 3)"
   ]
  },
  {
   "cell_type": "code",
   "execution_count": 29,
   "id": "b305aa9f",
   "metadata": {},
   "outputs": [],
   "source": [
    "def golden_section_search(f, a, b, n):\n",
    "    \n",
    "    phi = (1 + np.sqrt(5))/2\n",
    "    \n",
    "    rho = phi-1\n",
    "    \n",
    "    xu = rho*b + (1-rho)*a\n",
    "    \n",
    "    yu = f(xu)\n",
    "    \n",
    "    for i in range(1, n):\n",
    "        \n",
    "        xl = rho*a + (1 - rho)*b\n",
    "        yl = f(xl)\n",
    "        \n",
    "        if yl < yu:\n",
    "            b, xu, yu = xu, xl, yl\n",
    "        else:\n",
    "            a, b = b, xl\n",
    "            \n",
    "        print(\"[a,b]: \" + \"[\" + str(a) + \",\" + str(b) + \"]\")\n",
    "    \n",
    "    if a < b:\n",
    "        return (a, b)\n",
    "    else:\n",
    "        return (b, a)"
   ]
  },
  {
   "cell_type": "code",
   "execution_count": 62,
   "id": "554a775d",
   "metadata": {},
   "outputs": [
    {
     "name": "stdout",
     "output_type": "stream",
     "text": [
      "[a,b]: [0,0.6180339887498949]\n",
      "[a,b]: [0,0.3819660112501051]\n"
     ]
    },
    {
     "data": {
      "text/plain": [
       "(0, 0.3819660112501051)"
      ]
     },
     "execution_count": 62,
     "metadata": {},
     "output_type": "execute_result"
    }
   ],
   "source": [
    "golden_section_search(f, 0, 1, 3)"
   ]
  },
  {
   "cell_type": "code",
   "execution_count": 19,
   "id": "92a9f093",
   "metadata": {},
   "outputs": [],
   "source": [
    "def quadratic_fit_search(f, a, b, c, n):\n",
    "    \n",
    "    ya, yb, yc = f(a), f(b), f(c)\n",
    "    \n",
    "    for i in range(1, n-2):\n",
    "        \n",
    "        x = 0.5*(ya*(np.power(b,2)- np.power(c,2)) + yb*(np.power(c,2)-np.power(a,2)) + yc*(np.power(a,2)-np.power(b,2)))/(ya*(b-c) + yb*(c-a) + yc*(a-b))\n",
    "        \n",
    "        yx = f(x)\n",
    "        \n",
    "        if x > b:\n",
    "            if yx > yb:\n",
    "                c, yc = x, yz\n",
    "            else:\n",
    "                a, ya, b, yb = b, yb, x, yx\n",
    "        elif x < b:\n",
    "            if yx > yb:\n",
    "                a, ya = x, yx\n",
    "            else:\n",
    "                c, yc, b, yb = b, yb, x, yx\n",
    "                \n",
    "        print(\"[a,b]: \" + \"[\" + str(a) + \",\" + str(b) + \"]\")\n",
    "                \n",
    "    return (a, b, c)\n",
    "            "
   ]
  },
  {
   "cell_type": "code",
   "execution_count": 20,
   "id": "bc253db3",
   "metadata": {},
   "outputs": [
    {
     "name": "stdout",
     "output_type": "stream",
     "text": [
      "[a,b]: [0,-0.0]\n",
      "[a,b]: [0,-0.0]\n",
      "[a,b]: [0,-0.0]\n",
      "[a,b]: [0,-0.0]\n",
      "[a,b]: [0,-0.0]\n",
      "[a,b]: [0,-0.0]\n",
      "[a,b]: [0,-0.0]\n",
      "[a,b]: [0,-0.0]\n",
      "[a,b]: [0,-0.0]\n",
      "[a,b]: [0,-0.0]\n",
      "[a,b]: [0,-0.0]\n",
      "[a,b]: [0,-0.0]\n",
      "[a,b]: [0,-0.0]\n",
      "[a,b]: [0,-0.0]\n",
      "[a,b]: [0,-0.0]\n",
      "[a,b]: [0,-0.0]\n",
      "[a,b]: [0,-0.0]\n"
     ]
    },
    {
     "name": "stderr",
     "output_type": "stream",
     "text": [
      "/Users/gianluca/python_venv/lib/python3.7/site-packages/ipykernel_launcher.py:7: RuntimeWarning: invalid value encountered in double_scalars\n",
      "  import sys\n"
     ]
    },
    {
     "data": {
      "text/plain": [
       "(0, -0.0, 5)"
      ]
     },
     "execution_count": 20,
     "metadata": {},
     "output_type": "execute_result"
    }
   ],
   "source": [
    "quadratic_fit_search(f, 0, 5, 10, 20)"
   ]
  },
  {
   "cell_type": "code",
   "execution_count": 63,
   "id": "9eb1c46b",
   "metadata": {},
   "outputs": [],
   "source": [
    "def fprime(x):\n",
    "    #return 2*x\n",
    "    return 2*(x-2)"
   ]
  },
  {
   "cell_type": "code",
   "execution_count": 64,
   "id": "83e99278",
   "metadata": {},
   "outputs": [],
   "source": [
    "def bisection(fprime, a, b, eps):\n",
    "    \n",
    "    if a > b:\n",
    "        a, b = b, a\n",
    "        \n",
    "    ya, yb = fprime(a), fprime(b)\n",
    "    \n",
    "    if ya == 0:\n",
    "        b = a\n",
    "    \n",
    "    if yb == 0:\n",
    "        a = b\n",
    "        \n",
    "    while b-a > eps:\n",
    "        \n",
    "        x = (a+b)/2\n",
    "        y = fprime(x)\n",
    "        \n",
    "        if y == 0:\n",
    "            a, b = x, x\n",
    "        elif (y > 0 and ya > 0) or (y < 0 and ya < 0): #check for same sign\n",
    "            a = x\n",
    "        else:\n",
    "            b = x\n",
    "        \n",
    "        print(\"[a,b]: \" + \"[\" + str(a) + \",\" + str(b) + \"]\")\n",
    "\n",
    "    return (a,b)"
   ]
  },
  {
   "cell_type": "code",
   "execution_count": 65,
   "id": "9a55afea",
   "metadata": {},
   "outputs": [
    {
     "name": "stdout",
     "output_type": "stream",
     "text": [
      "[a,b]: [0.0,5]\n",
      "[a,b]: [0.0,2.5]\n",
      "[a,b]: [1.25,2.5]\n",
      "[a,b]: [1.875,2.5]\n"
     ]
    },
    {
     "data": {
      "text/plain": [
       "(1.875, 2.5)"
      ]
     },
     "execution_count": 65,
     "metadata": {},
     "output_type": "execute_result"
    }
   ],
   "source": [
    "bisection(fprime, -5, 5, 1)"
   ]
  },
  {
   "cell_type": "code",
   "execution_count": null,
   "id": "a26c2605",
   "metadata": {},
   "outputs": [],
   "source": []
  }
 ],
 "metadata": {
  "kernelspec": {
   "display_name": "Python 3",
   "language": "python",
   "name": "python3"
  },
  "language_info": {
   "codemirror_mode": {
    "name": "ipython",
    "version": 3
   },
   "file_extension": ".py",
   "mimetype": "text/x-python",
   "name": "python",
   "nbconvert_exporter": "python",
   "pygments_lexer": "ipython3",
   "version": "3.7.13"
  }
 },
 "nbformat": 4,
 "nbformat_minor": 5
}
